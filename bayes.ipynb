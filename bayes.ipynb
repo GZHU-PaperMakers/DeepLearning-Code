{
 "cells": [
  {
   "cell_type": "markdown",
   "id": "6a33ae46",
   "metadata": {},
   "source": [
    "#### 贝叶斯拼写检查器\n",
    "@train(features)\n",
    "该函数是对语料库的的词频进行统计。\\\n",
    "model = collections.defaultdict(lambda:1):是对所有词都默认出现过一次。为了解决下面这个问题，要是遇到我们从来没有见过的新词怎么办？假如说有一个词拼写完全的正确，但是在语料库中没有包含这个词，从而这个词也永远不会出现在训练集中，从而这个词也永远不会出现在训练集中，于是，我们就要返回出现这个词的概率是0，这个情况不太妙。因为概率为0这个代表了这个时间绝对不可能发生，而在我们的概率模型中，我们期望用一个很小的概率来代表这种情况， lamba:1。 然后多出现一次就加1"
   ]
  },
  {
   "cell_type": "code",
   "execution_count": 43,
   "id": "6012fdd6",
   "metadata": {},
   "outputs": [],
   "source": [
    "import re, collections\n",
    "\n",
    "# 把语料库中的单词全部抽取出来，转换成小写的，并且去除单词中间的特殊符号 \n",
    "def words(text):\n",
    "    return re.findall('[a-z]+', text.lower())   #re.findall() , 列出所有的匹配项，返回一个列表\n",
    " \n",
    "# 对语料库的词频进行统计\n",
    "def train(features):\n",
    "    model = collections.defaultdict(lambda:1)\n",
    "    for f in features:\n",
    "        model[f] += 1\n",
    "    return model\n",
    "\n",
    "NWORDS = train(words(open('big.txt').read()))  #打开一个语料库\n",
    "alphabet = 'abcdefghijklmnopqrstuvwxyz'"
   ]
  },
  {
   "cell_type": "markdown",
   "id": "eec29974",
   "metadata": {},
   "source": [
    "#### 编辑距离：\n",
    "两个词之间的距离定义为使用了几次插入（在词中插入一个单字母），删除（删除一个单字母），交换（交换两个相邻字母），替换（把一个字母换成另一个）的操作从一个词编导另一个词"
   ]
  },
  {
   "cell_type": "code",
   "execution_count": 45,
   "id": "988db76e",
   "metadata": {},
   "outputs": [],
   "source": [
    "# 返回所有与单词 w 编辑距离为 1 的集合\n",
    "def edits1(word):\n",
    "    n = len(word)\n",
    "    return set([word[0:i] + word[i+1:] for i in range(n)] + \n",
    "               [word[0:i] + word[i+1] +word[i] +word[i+2:] for i in range(n-1)] + \n",
    "               [word[0:i] + c + word[i+1:] for i in range(n) for c in alphabet] +\n",
    "               [word[0:i] + c + word[i:] for i in range(n+1) for c in alphabet])  "
   ]
  },
  {
   "cell_type": "code",
   "execution_count": 46,
   "id": "ae430e61",
   "metadata": {},
   "outputs": [],
   "source": [
    "#返回所有与单词 w 编辑距离为 2 的集合\n",
    "#在这些编辑距离小于 2 的词中间，只把那些正确的词作为候选词\n",
    "def known_edits2(word):\n",
    "    return set(e2 for e1 in edits1(word) for e2 in edits1(e1) if e2 in NWORDS)\n",
    "\n",
    "def known(word):\n",
    "    return set(w for w in word if w in NWORDS)"
   ]
  },
  {
   "cell_type": "markdown",
   "id": "438937db",
   "metadata": {},
   "source": [
    "#### 矫正方法\n",
    "为了简单起便：我们这里认为编辑距离为1的正确单词比编辑距离为2的优先级高，而编辑距离为0的正确单词优先级比编辑距离为1的高"
   ]
  },
  {
   "cell_type": "code",
   "execution_count": 47,
   "id": "af73d9cd",
   "metadata": {},
   "outputs": [],
   "source": [
    "def correct(word):\n",
    "    candidates = known([word]) or known(edits1(word)) or known_edits2(word) or [word]\n",
    "    return max(candidates , key= lambda w:NWORDS[w])"
   ]
  },
  {
   "cell_type": "code",
   "execution_count": 48,
   "id": "65fc5517",
   "metadata": {},
   "outputs": [
    {
     "data": {
      "text/plain": [
       "'more'"
      ]
     },
     "execution_count": 48,
     "metadata": {},
     "output_type": "execute_result"
    }
   ],
   "source": [
    "correct(\"morn\")"
   ]
  }
 ],
 "metadata": {
  "kernelspec": {
   "display_name": "Python 3 (ipykernel)",
   "language": "python",
   "name": "python3"
  },
  "language_info": {
   "codemirror_mode": {
    "name": "ipython",
    "version": 3
   },
   "file_extension": ".py",
   "mimetype": "text/x-python",
   "name": "python",
   "nbconvert_exporter": "python",
   "pygments_lexer": "ipython3",
   "version": "3.9.12"
  }
 },
 "nbformat": 4,
 "nbformat_minor": 5
}
